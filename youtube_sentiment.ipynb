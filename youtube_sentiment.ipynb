{
 "cells": [
  {
   "cell_type": "markdown",
   "id": "5df31120-abf4-4172-b7e8-ef3d2eae3de3",
   "metadata": {},
   "source": [
    "# Sentiment Analysis"
   ]
  },
  {
   "cell_type": "code",
   "execution_count": 1,
   "id": "34cac674-a390-4ba7-b038-9edaf1bc2e0d",
   "metadata": {},
   "outputs": [
    {
     "data": {
      "image/png": "[encoded data removed]",
      "text/plain": [
       "<Figure size 600x400 with 1 Axes>"
      ]
     },
     "metadata": {},
     "output_type": "display_data"
    },
    {
     "name": "stdout",
     "output_type": "stream",
     "text": [
      " 'Tags' column not found — skipping tags sentiment analysis.\n",
      "Sentiment analysis complete! Saved as 'youtube_with_sentiment.csv'\n"
     ]
    }
   ],
   "source": [
    "import pandas as pd\n",
    "import nltk\n",
    "from nltk.sentiment.vader import SentimentIntensityAnalyzer\n",
    "import seaborn as sns\n",
    "import matplotlib.pyplot as plt\n",
    "\n",
    "# Check and download VADER lexicon if not already available\n",
    "try:\n",
    "    nltk.data.find('sentiment/vader_lexicon.zip')\n",
    "except LookupError:\n",
    "    nltk.download('vader_lexicon')\n",
    "\n",
    "# Load the dataset\n",
    "df = pd.read_csv(\"cleaned_youtube_trending.csv\")\n",
    "\n",
    "# Helper to find column by keyword\n",
    "def find_col(keyword):\n",
    "    for col in df.columns:\n",
    "        if keyword in col.lower():\n",
    "            return col\n",
    "    return None\n",
    "\n",
    "# Detect column names\n",
    "title_col = find_col('title')\n",
    "tags_col = find_col('tag')\n",
    "\n",
    "# Initialize sentiment analyzer\n",
    "sid = SentimentIntensityAnalyzer()\n",
    "\n",
    "# Function to compute sentiment score\n",
    "def get_sentiment(text):\n",
    "    if pd.isnull(text):\n",
    "        return None\n",
    "    return sid.polarity_scores(str(text))['compound']\n",
    "\n",
    "# Classify sentiment category\n",
    "def classify_sentiment(score):\n",
    "    if pd.isnull(score):\n",
    "        return 'Unknown'\n",
    "    elif score >= 0.05:\n",
    "        return 'Positive'\n",
    "    elif score <= -0.05:\n",
    "        return 'Negative'\n",
    "    else:\n",
    "        return 'Neutral'\n",
    "\n",
    "# ----------- Apply sentiment analysis on titles (if exists) -----------\n",
    "if title_col:\n",
    "    df['title_sentiment'] = df[title_col].apply(get_sentiment)\n",
    "    df['title_sentiment_label'] = df['title_sentiment'].apply(classify_sentiment)\n",
    "\n",
    "    # Plot sentiment distribution for titles\n",
    "    plt.figure(figsize=(6, 4))\n",
    "    sns.countplot(data=df, x='title_sentiment_label', order=['Positive', 'Neutral', 'Negative'])\n",
    "    plt.title(\"Sentiment Distribution of Video Titles\")\n",
    "    plt.xlabel(\"Sentiment\")\n",
    "    plt.ylabel(\"Number of Videos\")\n",
    "    plt.tight_layout()\n",
    "    plt.show()\n",
    "else:\n",
    "    print(\" 'Title' column not found — skipping title sentiment analysis.\")\n",
    "\n",
    "# ----------- Apply sentiment analysis on tags (if exists) -----------\n",
    "if tags_col:\n",
    "    df['tags_sentiment'] = df[tags_col].apply(get_sentiment)\n",
    "    df['tags_sentiment_label'] = df['tags_sentiment'].apply(classify_sentiment)\n",
    "\n",
    "    # Plot sentiment distribution for tags\n",
    "    plt.figure(figsize=(6, 4))\n",
    "    sns.countplot(data=df, x='tags_sentiment_label', order=['Positive', 'Neutral', 'Negative'])\n",
    "    plt.title(\"Sentiment Distribution of Video Tags\")\n",
    "    plt.xlabel(\"Sentiment\")\n",
    "    plt.ylabel(\"Number of Videos\")\n",
    "    plt.tight_layout()\n",
    "    plt.show()\n",
    "else:\n",
    "    print(\" 'Tags' column not found — skipping tags sentiment analysis.\")\n",
    "\n",
    "# ----------- Save final dataset -----------\n",
    "df.to_csv(\"youtube_with_sentiment.csv\", index=False)\n",
    "print(\"Sentiment analysis complete! Saved as 'youtube_with_sentiment.csv'\")"
   ]
  }
 ],
 "metadata": {
  "kernelspec": {
   "display_name": "Python [conda env:base] *",
   "language": "python",
   "name": "conda-base-py"
  },
  "language_info": {
   "codemirror_mode": {
    "name": "ipython",
    "version": 3
   },
   "file_extension": ".py",
   "mimetype": "text/x-python",
   "name": "python",
   "nbconvert_exporter": "python",
   "pygments_lexer": "ipython3",
   "version": "3.12.7"
  }
 },
 "nbformat": 4,
 "nbformat_minor": 5
}
